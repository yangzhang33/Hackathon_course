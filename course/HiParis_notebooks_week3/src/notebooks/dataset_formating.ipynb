{
 "cells": [
  {
   "cell_type": "code",
   "execution_count": null,
   "id": "736c1160",
   "metadata": {},
   "outputs": [],
   "source": [
    "import sys\n",
    "import pandas as pd"
   ]
  },
  {
   "cell_type": "markdown",
   "id": "01a4086f",
   "metadata": {},
   "source": [
    "## Building"
   ]
  },
  {
   "cell_type": "code",
   "execution_count": null,
   "id": "fa625380",
   "metadata": {},
   "outputs": [],
   "source": [
    "building = pd.read_csv(\"../../data/raw/building_metadata.csv\")"
   ]
  },
  {
   "cell_type": "code",
   "execution_count": null,
   "id": "293492c0",
   "metadata": {},
   "outputs": [],
   "source": [
    "building"
   ]
  },
  {
   "cell_type": "code",
   "execution_count": null,
   "id": "c67e74ab",
   "metadata": {},
   "outputs": [],
   "source": [
    "building.dtypes"
   ]
  },
  {
   "cell_type": "code",
   "execution_count": null,
   "id": "e223d0b6",
   "metadata": {},
   "outputs": [],
   "source": [
    "building.count()"
   ]
  },
  {
   "cell_type": "code",
   "execution_count": null,
   "id": "38cf1ef7",
   "metadata": {},
   "outputs": [],
   "source": [
    "building = building.astype({'building_id': \"int32\", 'site_id': 'int32'})"
   ]
  },
  {
   "cell_type": "code",
   "execution_count": null,
   "id": "3e98c79a",
   "metadata": {},
   "outputs": [],
   "source": [
    "for c in building.columns:\n",
    "    if building[c].dtype == \"float\":\n",
    "        building[c] = building[c].astype(\"float32\")"
   ]
  },
  {
   "cell_type": "code",
   "execution_count": null,
   "id": "e1340e88",
   "metadata": {},
   "outputs": [],
   "source": [
    "building.to_feather(\"../../data/raw/building_metadata.feather\")"
   ]
  },
  {
   "cell_type": "markdown",
   "id": "48f12220",
   "metadata": {},
   "source": [
    "## Weather"
   ]
  },
  {
   "cell_type": "code",
   "execution_count": null,
   "id": "96ada45f",
   "metadata": {},
   "outputs": [],
   "source": [
    "weather = pd.read_csv(\"../../data/raw/weather.csv\")"
   ]
  },
  {
   "cell_type": "code",
   "execution_count": null,
   "id": "be8d2b9e",
   "metadata": {},
   "outputs": [],
   "source": [
    "weather.dtypes"
   ]
  },
  {
   "cell_type": "code",
   "execution_count": null,
   "id": "83afebb3",
   "metadata": {},
   "outputs": [],
   "source": [
    "weather[\"timestamp\"] = pd.to_datetime(\n",
    "            weather[\"timestamp\"], format='%Y-%m-%d %H:%M:%S')"
   ]
  },
  {
   "cell_type": "code",
   "execution_count": null,
   "id": "e69de904",
   "metadata": {},
   "outputs": [],
   "source": [
    "def to_float32(df):\n",
    "    for c in df.columns:\n",
    "        if df[c].dtype == \"float\":\n",
    "            df[c] = df[c].astype(\"float32\")\n",
    "    return df"
   ]
  },
  {
   "cell_type": "code",
   "execution_count": null,
   "id": "511d925a",
   "metadata": {},
   "outputs": [],
   "source": [
    "weather = to_float32(weather)"
   ]
  },
  {
   "cell_type": "code",
   "execution_count": null,
   "id": "0a4627b5",
   "metadata": {},
   "outputs": [],
   "source": [
    "weather = weather.astype({'site_id': 'int32'})"
   ]
  },
  {
   "cell_type": "code",
   "execution_count": null,
   "id": "0ef4c243",
   "metadata": {},
   "outputs": [],
   "source": [
    "weather.to_feather(\"../../data/raw/weather.feather\")"
   ]
  },
  {
   "cell_type": "code",
   "execution_count": null,
   "id": "3788a2e5",
   "metadata": {},
   "outputs": [],
   "source": [
    "weather.dtypes"
   ]
  },
  {
   "cell_type": "markdown",
   "id": "b9036fe5",
   "metadata": {},
   "source": [
    "## Meters"
   ]
  },
  {
   "cell_type": "code",
   "execution_count": null,
   "id": "4692a895",
   "metadata": {},
   "outputs": [],
   "source": [
    "meters = pd.read_csv(\"../../data/raw/meters.csv\")"
   ]
  },
  {
   "cell_type": "code",
   "execution_count": null,
   "id": "68616557",
   "metadata": {},
   "outputs": [],
   "source": [
    "meters.shape"
   ]
  },
  {
   "cell_type": "code",
   "execution_count": null,
   "id": "f8e99220",
   "metadata": {},
   "outputs": [],
   "source": [
    "meters = meters.sample(frac=0.1, random_state=0)"
   ]
  },
  {
   "cell_type": "code",
   "execution_count": null,
   "id": "7bb6376f",
   "metadata": {},
   "outputs": [],
   "source": [
    "meters[\"timestamp\"] = pd.to_datetime(\n",
    "            meters[\"timestamp\"], format='%Y-%m-%d %H:%M:%S')"
   ]
  },
  {
   "cell_type": "code",
   "execution_count": null,
   "id": "278654f9",
   "metadata": {},
   "outputs": [],
   "source": [
    "meters = meters[meters.building_id != 778]"
   ]
  },
  {
   "cell_type": "code",
   "execution_count": null,
   "id": "acdc6ad4",
   "metadata": {},
   "outputs": [],
   "source": [
    "meters.shape"
   ]
  },
  {
   "cell_type": "code",
   "execution_count": null,
   "id": "dfd4fe37",
   "metadata": {},
   "outputs": [],
   "source": [
    "meters.dtypes"
   ]
  },
  {
   "cell_type": "code",
   "execution_count": null,
   "id": "884e3770",
   "metadata": {},
   "outputs": [],
   "source": [
    "meters = meters.astype({'building_id': 'int32', \"meter\": \"int32\", \"meter_reading\": \"float32\"})"
   ]
  },
  {
   "cell_type": "code",
   "execution_count": null,
   "id": "b697a6ab",
   "metadata": {},
   "outputs": [],
   "source": [
    "meters = meters.reset_index(drop=True)"
   ]
  },
  {
   "cell_type": "code",
   "execution_count": null,
   "id": "bd06f2ab",
   "metadata": {},
   "outputs": [],
   "source": [
    "meters.dtypes"
   ]
  },
  {
   "cell_type": "code",
   "execution_count": null,
   "id": "37bfd3be",
   "metadata": {},
   "outputs": [],
   "source": [
    "meters.to_feather(\"../../data/raw/meters.feather\")"
   ]
  },
  {
   "cell_type": "markdown",
   "id": "95770b46",
   "metadata": {},
   "source": [
    "## Merge"
   ]
  },
  {
   "cell_type": "code",
   "execution_count": null,
   "id": "53ed76c5",
   "metadata": {},
   "outputs": [],
   "source": [
    "data_dir = \"/home/jovyan/personal_workspace/bootcamp/data\""
   ]
  },
  {
   "cell_type": "code",
   "execution_count": null,
   "id": "9415c35b",
   "metadata": {},
   "outputs": [],
   "source": [
    "from tqdm import notebook\n",
    "import os"
   ]
  },
  {
   "cell_type": "code",
   "execution_count": null,
   "id": "f61a4601",
   "metadata": {},
   "outputs": [],
   "source": [
    "FILES_FOLDER = {\n",
    "    'raw': ['raw/building_metadata.feather', 'raw/meters.feather', 'raw/weather.feather'],\n",
    "    'clean': ['clean/building_metadata.feather', 'clean/meters.feather', 'clean/weather.feather'],\n",
    "    'merged': ['merged/data.feather'],\n",
    "    'model': ['model/train.feather', 'model/val.feather', 'model/test.feather']\n",
    "}\n",
    "\n",
    "\n",
    "def load_data(folder, data_dir, dict_files=FILES_FOLDER):\n",
    "    files = dict_files[folder]\n",
    "\n",
    "    dataframes = []\n",
    "\n",
    "    print(\":: Start loading data\")\n",
    "    for name_file in notebook.tqdm(files):\n",
    "        dataframe = pd.read_feather(os.path.join(data_dir, name_file))\n",
    "        dataframes.append(dataframe)\n",
    "\n",
    "    return dataframes"
   ]
  },
  {
   "cell_type": "code",
   "execution_count": null,
   "id": "35e5731a",
   "metadata": {},
   "outputs": [],
   "source": [
    "building, meters, weather = load_data(\"raw\", data_dir)"
   ]
  },
  {
   "cell_type": "code",
   "execution_count": null,
   "id": "176dca1c",
   "metadata": {},
   "outputs": [],
   "source": [
    "building"
   ]
  },
  {
   "cell_type": "code",
   "execution_count": null,
   "id": "1c423996",
   "metadata": {},
   "outputs": [],
   "source": [
    "meters.dtypes"
   ]
  },
  {
   "cell_type": "code",
   "execution_count": null,
   "id": "b0fdfcdc",
   "metadata": {},
   "outputs": [],
   "source": [
    "weather"
   ]
  },
  {
   "cell_type": "code",
   "execution_count": null,
   "id": "cc825c80",
   "metadata": {},
   "outputs": [],
   "source": [
    "dataset = meters.merge(building, how='left', on='building_id')"
   ]
  },
  {
   "cell_type": "code",
   "execution_count": null,
   "id": "0528c606",
   "metadata": {},
   "outputs": [],
   "source": [
    "dataset = dataset.merge(\n",
    "    weather,\n",
    "    how='left',\n",
    "    on=['site_id', 'timestamp']\n",
    ")"
   ]
  },
  {
   "cell_type": "code",
   "execution_count": null,
   "id": "19364c28",
   "metadata": {},
   "outputs": [],
   "source": [
    "dataset"
   ]
  },
  {
   "cell_type": "code",
   "execution_count": null,
   "id": "1a595dda",
   "metadata": {},
   "outputs": [],
   "source": [
    "dataset.count()"
   ]
  },
  {
   "cell_type": "code",
   "execution_count": null,
   "id": "22dedee6",
   "metadata": {},
   "outputs": [],
   "source": []
  }
 ],
 "metadata": {
  "kernelspec": {
   "display_name": "Python 3 (ipykernel)",
   "language": "python",
   "name": "python3"
  },
  "language_info": {
   "codemirror_mode": {
    "name": "ipython",
    "version": 3
   },
   "file_extension": ".py",
   "mimetype": "text/x-python",
   "name": "python",
   "nbconvert_exporter": "python",
   "pygments_lexer": "ipython3",
   "version": "3.10.8"
  }
 },
 "nbformat": 4,
 "nbformat_minor": 5
}
