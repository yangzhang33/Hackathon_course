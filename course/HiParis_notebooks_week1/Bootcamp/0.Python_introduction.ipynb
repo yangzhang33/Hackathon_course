{
 "cells": [
  {
   "cell_type": "markdown",
   "id": "9c4a788a",
   "metadata": {},
   "source": [
    "## 0.Python Introduction\n",
    "\n",
    "Authors : Kefia Ali"
   ]
  },
  {
   "cell_type": "markdown",
   "id": "bb9882b3",
   "metadata": {},
   "source": [
    "<p align=\"center\">\n",
    "  <a>\n",
    "    <img src=\"./figures/logo-hi-paris-retina.png\" alt=\"Logo\" width=\"280\" height=\"180\">\n",
    "  </a>\n",
    "\n",
    "  <h3 align=\"center\">Data Science Bootcamp</h3>\n",
    "</p>"
   ]
  },
  {
   "cell_type": "markdown",
   "id": "fd4ea42d",
   "metadata": {},
   "source": [
    "# Introduction to Python\n",
    "\n",
    "- General presentation of the language\n",
    "    - Philosophy\n",
    "    - Evolutions & Successes\n",
    "- Practical exploration of the language through a concrete example\n",
    "    - Computing the GCD of two numbers: discovering the basics of the language through different implementations"
   ]
  },
  {
   "cell_type": "markdown",
   "id": "4fbf77d6",
   "metadata": {},
   "source": [
    "## Introduction to Python"
   ]
  },
  {
   "cell_type": "markdown",
   "id": "a096298e",
   "metadata": {
    "tags": []
   },
   "source": [
    "- Very powerful and intuitive programming language\n",
    "    - Interpreted: no compilation phase (like C or Java)\n",
    "    - Simple syntax / high level (indentation)\n",
    "    - Strong and dynamic typing: variables are not typed (carried by the value)\n",
    "    - Duck typing: we rely on the value interface rather than the type\n",
    "    - Very powerful native data structures (lists, dictionaries, sets, iterators, etc.)\n",
    "    - Pay attention to mutable and immutable types"
   ]
  },
  {
   "cell_type": "code",
   "execution_count": null,
   "id": "7b5c3260",
   "metadata": {},
   "outputs": [],
   "source": [
    "class Magic:\n",
    "    def __len__(self):\n",
    "        return 1\n",
    "\n",
    "\n",
    "l = (1, 2, 3)\n",
    "print(len(l))\n",
    "m = Magic()\n",
    "print(len(m))"
   ]
  },
  {
   "cell_type": "code",
   "execution_count": null,
   "id": "afc85c54",
   "metadata": {},
   "outputs": [],
   "source": [
    "s = \"123\"\n",
    "print(s[1])\n",
    "s[1] = 4"
   ]
  },
  {
   "cell_type": "code",
   "execution_count": null,
   "id": "8f257ddc",
   "metadata": {},
   "outputs": [],
   "source": [
    "def f1(s):\n",
    "    s += \"3\"\n",
    "\n",
    "\n",
    "def f2(l):\n",
    "    l += [3]\n",
    "\n",
    "\n",
    "s = \"12\"\n",
    "f1(s)\n",
    "print(s)\n",
    "\n",
    "l = [1, 2]\n",
    "f2(l)\n",
    "print(l)"
   ]
  },
  {
   "cell_type": "markdown",
   "id": "198b15c8",
   "metadata": {},
   "source": [
    "- Very rich functionalities in the standard library\n",
    "    - text handling (`upper`, `lower`, `regexp`, `diff`, `unicode`)\n",
    "    - numerical manipulation (`random`, `decimal`, `sqrt`, `trigo`)\n",
    "    - file system, processing, threading, network, etc. (web server in 2 lines)\n",
    "    - data persistence (`pickle`, `json`, `csv`, `sqlite`, `zlib`)\n",
    "    - os interface (`os`, `io`, `logging`)\n",
    "    - UI library (`Tkinter` as a standard)\n",
    "    - Modules / Packages management (very important)"
   ]
  },
  {
   "cell_type": "markdown",
   "id": "dd259837",
   "metadata": {},
   "source": [
    "- Perpetual evolution\n",
    "    - Very active community supported by companies / universities (Google, Dropbox, etc.)\n",
    "    - A big shift in 2010 (`py3k`): incompatible version to correct design errors\n",
    "    - 10 years to migrate all community projects / frameworks\n",
    "    - Async approach built into the language to overcome performance limitations (`GIL`)\n",
    "    - Recent communication on work in progress by Guido van Rossum on Python performance (Microsoft)"
   ]
  },
  {
   "cell_type": "markdown",
   "id": "495ca18f",
   "metadata": {},
   "source": [
    "- Widely used in many fields\n",
    "    - Calcul / Data / Stats : `Numpy`, `Pandas`, `Scikit`, `TF`, `Torch`\n",
    "    - Web : `Flask`, `Django`, `FastAPI`\n",
    "    - Admin / Automatisation / Cloud : `Ansible`, `awscli`, `azure-cli`"
   ]
  },
  {
   "cell_type": "markdown",
   "id": "3653e513",
   "metadata": {},
   "source": [
    "- Good introduction : https://learnxinyminutes.com/docs/python/"
   ]
  },
  {
   "cell_type": "markdown",
   "id": "9361df94",
   "metadata": {},
   "source": [
    "## Exploration pratique (gcd)"
   ]
  },
  {
   "cell_type": "markdown",
   "id": "4360856b",
   "metadata": {},
   "source": [
    "- gcd : greatest common divisor of two numbers (Plus Grand Commun Diviseur)\n",
    "- Explanation :\n",
    "    - gcd(a, b) with a = nb + m\n",
    "    - if m != 0\n",
    "        - gcd(a, b) divides m\n",
    "        - if d divides m and b then d divides a\n",
    "        => gcd(a, b) = gcd(b, m)\n",
    "    - if m == 0 => gcd(a, b) = b\n",
    "- Algorithm:\n",
    "    - while a >= b, a = a - b\n",
    "    - if a == 0 => res = b\n",
    "    - otherwise while b >= a, b = b - a\n",
    "      - if b == 0 => res = a\n",
    "      - otherwise while ..."
   ]
  },
  {
   "cell_type": "code",
   "execution_count": null,
   "id": "534e4b46",
   "metadata": {
    "tags": []
   },
   "outputs": [],
   "source": [
    "# Naive approach (using a language to express an algorithm)\n",
    "\n",
    "a, b = 12, 9\n",
    "res = None\n",
    "\n",
    "while True:\n",
    "    a = a - b  # we assume that a >= b\n",
    "    if a == 0:\n",
    "        res = b\n",
    "        break\n",
    "    elif a < b:\n",
    "        a, b = b, a\n",
    "\n",
    "print(res)"
   ]
  },
  {
   "cell_type": "markdown",
   "id": "87c28dee",
   "metadata": {
    "tags": []
   },
   "source": [
    "### Take away\n",
    "- Easy and simple syntax (we assign as done on paper)\n",
    "- `if`, `else`, `elif`\n",
    "- `while`, `break`, `continue`\n",
    "- `print` is your best friend"
   ]
  },
  {
   "cell_type": "code",
   "execution_count": null,
   "id": "1176b4e4",
   "metadata": {
    "tags": []
   },
   "outputs": [],
   "source": [
    "# To capitalize on a logic, you need building blocks\n",
    "\n",
    "def gcd1(a, b):\n",
    "    a, b = max(a, b), min(a, b)\n",
    "    while True:\n",
    "        a = a - b\n",
    "        if a == 0:\n",
    "            return b\n",
    "        elif a < b:\n",
    "            a, b = b, a"
   ]
  },
  {
   "cell_type": "code",
   "execution_count": null,
   "id": "a3a0dba2",
   "metadata": {
    "tags": []
   },
   "outputs": [],
   "source": [
    "gcd1(12, 9)"
   ]
  },
  {
   "cell_type": "code",
   "execution_count": null,
   "id": "ee6ae897",
   "metadata": {
    "tags": []
   },
   "outputs": [],
   "source": [
    "gcd1(13, 12)"
   ]
  },
  {
   "cell_type": "markdown",
   "id": "9bd2b59c",
   "metadata": {
    "tags": []
   },
   "source": [
    "### Take away\n",
    "- Functions : building block important to capitalize / factorize\n",
    "- Classes are the level above (Capitalize on a concept)\n",
    "- Modules (.py file) and packages (hierarchy of modules) allow to group functions and classes to share / publish them (pypi)"
   ]
  },
  {
   "cell_type": "code",
   "execution_count": null,
   "id": "9d63e3dd",
   "metadata": {
    "tags": []
   },
   "outputs": [],
   "source": [
    "# Improvement : we don't like the `while True` in development (the error is fatal)\n",
    "# A function can call itself (recursivity)\n",
    "\n",
    "def _gcd2(s, b):\n",
    "    while b >= s:\n",
    "        b -= s\n",
    "    if b == 0:\n",
    "        return s\n",
    "    else:\n",
    "        return _gcd2(b, s)\n",
    "\n",
    "\n",
    "def gcd2(a, b):\n",
    "    return _gcd2(min(a, b), max(a, b))"
   ]
  },
  {
   "cell_type": "code",
   "execution_count": null,
   "id": "c0265f83",
   "metadata": {
    "tags": []
   },
   "outputs": [],
   "source": [
    "gcd2(12, 13)"
   ]
  },
  {
   "cell_type": "code",
   "execution_count": null,
   "id": "57de7b6a",
   "metadata": {},
   "outputs": [],
   "source": [
    "gcd2(14, 14)"
   ]
  },
  {
   "cell_type": "code",
   "execution_count": null,
   "id": "79becb5e",
   "metadata": {},
   "outputs": [],
   "source": [
    "# More readability / better use of language\n",
    "\n",
    "def gcd3(a, b):\n",
    "    s, b = min(a, b), max(a, b)\n",
    "    while s != 0:\n",
    "        s, b = b % s, s\n",
    "    return b"
   ]
  },
  {
   "cell_type": "code",
   "execution_count": null,
   "id": "53f12fd7",
   "metadata": {},
   "outputs": [],
   "source": [
    "gcd3(12, 13)"
   ]
  },
  {
   "cell_type": "code",
   "execution_count": null,
   "id": "4728d429",
   "metadata": {},
   "outputs": [],
   "source": [
    "gcd3(14, 7)"
   ]
  },
  {
   "cell_type": "markdown",
   "id": "5e85107c",
   "metadata": {},
   "source": [
    "### Take away\n",
    "- Python is a very rich language (operations, native functions, multiple assignments)\n",
    "- Code readability is an important criterion of the quality  (we spend more time maintaining than creating)\n",
    "- A standard (pep8) and tools exist to check and format the code"
   ]
  },
  {
   "cell_type": "code",
   "execution_count": null,
   "id": "3185054b",
   "metadata": {},
   "outputs": [],
   "source": [
    "import math\n",
    "\n",
    "\n",
    "math.gcd(14, 7)"
   ]
  },
  {
   "cell_type": "markdown",
   "id": "1d89597f",
   "metadata": {},
   "source": [
    "### Take away\n",
    "- Before starting a development, check if there is already a library that does it\n",
    "- As a Software Engineer, Data Enginner or Data Scientist, our job is more to find the best combination of components to do the job than to create new things"
   ]
  },
  {
   "cell_type": "code",
   "execution_count": null,
   "id": "4e21fd0d",
   "metadata": {},
   "outputs": [],
   "source": [
    "import random\n",
    "\n",
    "\n",
    "N = 100000\n",
    "\n",
    "random.seed()\n",
    "A = [random.randint(1, 1000000000) for i in range(N)]\n",
    "B = [random.randint(1, 1000000000) for i in range(N)]"
   ]
  },
  {
   "cell_type": "code",
   "execution_count": null,
   "id": "10c14ca8",
   "metadata": {},
   "outputs": [],
   "source": [
    "import timeit\n",
    "\n",
    "\n",
    "def bench(f):\n",
    "    def ff():\n",
    "        r = [f(a, b) for a, b in zip(A, B)]\n",
    "        print(f\"gcd({A[0]}, {B[0]}) = {r[0]}\")\n",
    "        return r\n",
    "    t = timeit.timeit(ff, number=1)\n",
    "    print(f\"exec time : {t:.2f}s\")"
   ]
  },
  {
   "cell_type": "markdown",
   "id": "6bf3a7a2",
   "metadata": {},
   "source": [
    "### Take away\n",
    "- String format\n",
    "- List Comprehension (exists for dict)\n",
    "- Embedded functions\n",
    "- The standard library is very powerful (min, max, zip, timeit)"
   ]
  },
  {
   "cell_type": "code",
   "execution_count": null,
   "id": "33bc9497",
   "metadata": {},
   "outputs": [],
   "source": [
    "bench(gcd1)"
   ]
  },
  {
   "cell_type": "code",
   "execution_count": null,
   "id": "dc586c0f",
   "metadata": {},
   "outputs": [],
   "source": [
    "bench(gcd2)"
   ]
  },
  {
   "cell_type": "code",
   "execution_count": null,
   "id": "e59be5ad",
   "metadata": {},
   "outputs": [],
   "source": [
    "bench(gcd3)"
   ]
  },
  {
   "cell_type": "code",
   "execution_count": null,
   "id": "07e50263",
   "metadata": {},
   "outputs": [],
   "source": [
    "bench(math.gcd)"
   ]
  },
  {
   "cell_type": "markdown",
   "id": "8f98ff24",
   "metadata": {},
   "source": [
    "### Take away\n",
    "- The closer you get to the standard, the better you perform\n",
    "- To do data engineering, we must be vigilant because performance quickly becomes critical"
   ]
  },
  {
   "cell_type": "code",
   "execution_count": null,
   "id": "3385aafe",
   "metadata": {},
   "outputs": [],
   "source": [
    "import random\n",
    "\n",
    "\n",
    "N = 10000000\n",
    "\n",
    "random.seed()\n",
    "A = [random.randint(1, 1000000000) for i in range(N)]\n",
    "B = [random.randint(1, 1000000000) for i in range(N)]"
   ]
  },
  {
   "cell_type": "code",
   "execution_count": null,
   "id": "79e2b21b",
   "metadata": {},
   "outputs": [],
   "source": [
    "def log(a, b, r):\n",
    "    print(f\"gcd({a}, {b}) = {r}\")\n",
    "\n",
    "\n",
    "def naive():\n",
    "    R = [math.gcd(a, b) for a, b in zip(A, B)]\n",
    "    for a, b, r in zip(A, B, R):\n",
    "        log(a, b, r)\n",
    "        break\n",
    "\n",
    "\n",
    "def lazy():\n",
    "    R = (math.gcd(a, b) for a, b in zip(A, B))\n",
    "    for a, b, r in zip(A, B, R):\n",
    "        log(a, b, r)\n",
    "        break"
   ]
  },
  {
   "cell_type": "code",
   "execution_count": null,
   "id": "396d332e",
   "metadata": {},
   "outputs": [],
   "source": [
    "print(f\"naive exec time : {timeit.timeit(naive, number=1):.2f}s\")\n",
    "print()\n",
    "print(f\"lazy exec time : {timeit.timeit(lazy, number=1):.2f}s\")"
   ]
  },
  {
   "cell_type": "markdown",
   "id": "d0282aea",
   "metadata": {},
   "source": [
    "### Take away\n",
    "- There are \"lazy\" data structures that avoid intermediary storage\n",
    "- This consists in creating iterators and links on iterators that iterate on existing data\n",
    "- Very common pattern in Python (iterate on database records, aggregations on CSV files > memory size)\n",
    "- Compatible with builtins and standard library (`sorted`, `zip`, `enumerate`, etc.)"
   ]
  },
  {
   "cell_type": "code",
   "execution_count": null,
   "id": "8473b7fb",
   "metadata": {},
   "outputs": [],
   "source": [
    "import numpy as np\n",
    "\n",
    "\n",
    "AA = np.array(A)\n",
    "BA = np.array(B)\n",
    "\n",
    "\n",
    "def fast():\n",
    "    R = np.gcd(AA, BA)\n",
    "    log(AA[0], BA[0], R[0])"
   ]
  },
  {
   "cell_type": "code",
   "execution_count": null,
   "id": "e2d65b64",
   "metadata": {},
   "outputs": [],
   "source": [
    "print(f\"fast exec time : {timeit.timeit(fast, number=1):.2f}s\")"
   ]
  },
  {
   "cell_type": "markdown",
   "id": "ef87ea1d",
   "metadata": {},
   "source": [
    "### Take away\n",
    "- Python's basic data structures are not optimized for numeric compute\n",
    "- The `Numpy` package is the basis for all numerical computation libraries in Python\n",
    "    - Block data structure uniformly typed \n",
    "    - Flexibility to shape the data to your needs\n",
    "    - Rich library of operations to manipulate these arrays\n",
    "    - Utilities to build arrays (timeseries, random, range, etc.)\n",
    "    - Utilities to load from files and serialize\n",
    "- Nice introduction : http://datacamp-community-prod.s3.amazonaws.com/da466534-51fe-4c6d-b0cb-154f4782eb54"
   ]
  },
  {
   "cell_type": "code",
   "execution_count": null,
   "id": "f95c9995",
   "metadata": {},
   "outputs": [],
   "source": [
    "a = np.random.random((3, 2))\n",
    "print(a)\n",
    "print(a.dtype)\n",
    "print(a.shape)"
   ]
  },
  {
   "cell_type": "code",
   "execution_count": null,
   "id": "0ecaee80",
   "metadata": {},
   "outputs": [],
   "source": [
    "a[1:, 1:].shape"
   ]
  },
  {
   "cell_type": "code",
   "execution_count": null,
   "id": "c97893ef",
   "metadata": {},
   "outputs": [],
   "source": [
    "b = np.random.random((2, 2, 2, 2))\n",
    "print(b)\n",
    "print(b.dtype)\n",
    "print(b.shape)\n",
    "print(b[0, 0, 0, :])"
   ]
  },
  {
   "cell_type": "code",
   "execution_count": null,
   "id": "8a25dc4e",
   "metadata": {},
   "outputs": [],
   "source": [
    "a.reshape((2, 3))"
   ]
  },
  {
   "cell_type": "code",
   "execution_count": null,
   "id": "426e9790",
   "metadata": {},
   "outputs": [],
   "source": [
    "b = np.random.random((3, 2))\n",
    "print(b)"
   ]
  },
  {
   "cell_type": "code",
   "execution_count": null,
   "id": "97d0bda1",
   "metadata": {},
   "outputs": [],
   "source": [
    "print(a+b)"
   ]
  },
  {
   "cell_type": "code",
   "execution_count": null,
   "id": "8c4a59e0",
   "metadata": {},
   "outputs": [],
   "source": [
    "print(a*b)"
   ]
  },
  {
   "cell_type": "code",
   "execution_count": null,
   "id": "f4399952",
   "metadata": {},
   "outputs": [],
   "source": [
    "print(a/b)"
   ]
  },
  {
   "cell_type": "code",
   "execution_count": null,
   "id": "29692a6d",
   "metadata": {},
   "outputs": [],
   "source": [
    "a.dot(b.reshape(2, 3))"
   ]
  },
  {
   "cell_type": "code",
   "execution_count": null,
   "id": "93e06cf5",
   "metadata": {},
   "outputs": [],
   "source": [
    "a = np.array((1, 2, 3))"
   ]
  },
  {
   "cell_type": "code",
   "execution_count": null,
   "id": "28c10f1f",
   "metadata": {},
   "outputs": [],
   "source": [
    "a.dtype"
   ]
  },
  {
   "cell_type": "code",
   "execution_count": null,
   "id": "800c1065",
   "metadata": {},
   "outputs": [],
   "source": [
    "a[3] = 1  # Pas de resizing (Attention)"
   ]
  },
  {
   "cell_type": "code",
   "execution_count": null,
   "id": "922650f4",
   "metadata": {},
   "outputs": [],
   "source": [
    "a[0] = 0\n",
    "print(a)"
   ]
  },
  {
   "cell_type": "code",
   "execution_count": null,
   "id": "d11f52e9",
   "metadata": {},
   "outputs": [],
   "source": [
    "a[0] = 5.5  # Cast (Attention)\n",
    "print(a)"
   ]
  },
  {
   "cell_type": "code",
   "execution_count": null,
   "id": "d3780c7c",
   "metadata": {},
   "outputs": [],
   "source": [
    "def double1(a):\n",
    "    return a*2\n",
    "\n",
    "\n",
    "def double2(a):\n",
    "    return np.array([v*2 for v in a])\n",
    "\n",
    "\n",
    "print(double1(np.array((1, 2, 3))))\n",
    "print(double2(np.array((1, 2, 3))))"
   ]
  },
  {
   "cell_type": "code",
   "execution_count": null,
   "id": "96078ac4",
   "metadata": {},
   "outputs": [],
   "source": [
    "from functools import partial\n",
    "\n",
    "\n",
    "a = np.arange(1000000)\n",
    "\n",
    "print(timeit.timeit(partial(double1, a), number=10))\n",
    "print(timeit.timeit(partial(double2, a), number=10))"
   ]
  },
  {
   "cell_type": "markdown",
   "id": "07001fd8",
   "metadata": {},
   "source": [
    "### Take away\n",
    "- Numpy is a real Swiss army knife for computational processing while keeping the flexibility of python\n",
    "- You have to be careful to keep the internal structures of Numpy (go through the Numpy API)\n",
    "- Use of `partial` (creation of objects of type function with arguments)"
   ]
  },
  {
   "cell_type": "code",
   "execution_count": null,
   "id": "11c9e005",
   "metadata": {},
   "outputs": [],
   "source": [
    "import numpy as np\n",
    "import matplotlib.pyplot as plt\n",
    "\n",
    "\n",
    "x1 = np.arange(0.0, 2.0, 0.1)\n",
    "y1 = np.sin(2 * np.pi * x1)\n",
    "\n",
    "x2 = np.arange(0.0, 2.0, 0.01)\n",
    "y2 = np.sin(2 * np.pi * x2)\n",
    "\n",
    "fig, ax = plt.subplots()\n",
    "\n",
    "ax.plot(x1, y1, color=\"red\")\n",
    "ax.plot(x2, y2, color=\"blue\")\n",
    "ax.grid()\n",
    "\n",
    "plt.show()"
   ]
  },
  {
   "cell_type": "markdown",
   "id": "b2c2f908",
   "metadata": {},
   "source": [
    "### Take away\n",
    "- To visualize the numbers, very powerful libraries to visualize the `numpy` array"
   ]
  },
  {
   "cell_type": "markdown",
   "id": "e3260fec",
   "metadata": {},
   "source": [
    "### Pandas\n",
    "Pandas is open source toll for data manipulation, analysis and cleaning. It is well suited for different kinds of data and to manage many named columns with different types, such as:\n",
    "\n",
    "- Tabular data with heterogeneously-typed columns\n",
    "- Ordered and unordered time series data\n",
    "- Arbitrary matrix data with row & column labels\n",
    "- Unlabelled data\n",
    "- Any other form of observational or statistical data sets\n",
    "\n",
    "Nice introduction : https://pandas.pydata.org/Pandas_Cheat_Sheet.pdf"
   ]
  },
  {
   "cell_type": "code",
   "execution_count": null,
   "id": "2a4fec52",
   "metadata": {},
   "outputs": [],
   "source": [
    "import pandas as pd\n",
    "\n",
    "\n",
    "# read all medals of Winter Olympics between 1924 and 2006\n",
    "df = pd.read_csv('http://winterolympicsmedals.com/medals.csv')"
   ]
  },
  {
   "cell_type": "code",
   "execution_count": null,
   "id": "b6d94dcc",
   "metadata": {},
   "outputs": [],
   "source": [
    "df"
   ]
  },
  {
   "cell_type": "code",
   "execution_count": null,
   "id": "21e3586d",
   "metadata": {},
   "outputs": [],
   "source": [
    "df.dtypes"
   ]
  },
  {
   "cell_type": "markdown",
   "id": "b1ffbe75",
   "metadata": {},
   "source": [
    "Pandas are built on the top of NumPy"
   ]
  },
  {
   "cell_type": "code",
   "execution_count": null,
   "id": "a67b94b6",
   "metadata": {},
   "outputs": [],
   "source": [
    "df.index"
   ]
  },
  {
   "cell_type": "code",
   "execution_count": null,
   "id": "312d8f55",
   "metadata": {},
   "outputs": [],
   "source": [
    "df.values"
   ]
  },
  {
   "cell_type": "markdown",
   "id": "f731ccb0",
   "metadata": {},
   "source": [
    "Python Pandas Operations\n",
    "\n",
    "Using Python pandas, you can perform a lot of operations with series, data frames, missing data, group by etc. Some of the common operations for data manipulation are demonstrated below"
   ]
  },
  {
   "cell_type": "code",
   "execution_count": null,
   "id": "4da302aa",
   "metadata": {},
   "outputs": [],
   "source": [
    "# filtering\n",
    "df[(df.NOC == 'FRA') & (df.Year == 2002)]"
   ]
  },
  {
   "cell_type": "code",
   "execution_count": null,
   "id": "b49df717",
   "metadata": {},
   "outputs": [],
   "source": [
    "# aggregations\n",
    "df.groupby([\"Year\"]).agg({\"Event\": \"nunique\", \"NOC\": \"nunique\", \"Medal\": \"count\"})"
   ]
  },
  {
   "cell_type": "code",
   "execution_count": null,
   "id": "5cb78cd0",
   "metadata": {},
   "outputs": [],
   "source": [
    "# the number of all medals winned by coutry for each categories\n",
    "df.pivot_table(index='NOC', columns='Medal', values='Event', aggfunc='count')"
   ]
  },
  {
   "cell_type": "code",
   "execution_count": null,
   "id": "6234ff58",
   "metadata": {},
   "outputs": [],
   "source": [
    "(df\n",
    "     .groupby([\"NOC\", \"Medal\"])\n",
    "     .agg({\"Event\": \"count\"})\n",
    "     .reset_index(level=[1])\n",
    "     .pivot(columns=\"Medal\")\n",
    "     .fillna(0)\n",
    ")"
   ]
  },
  {
   "cell_type": "markdown",
   "id": "8c5c275f",
   "metadata": {},
   "source": [
    "### Numpy or Pandas ?\n",
    "\n",
    "Now majorly the difference between Numpy and Pandas lies in their data structure, memory consumption, and usage.*\n",
    "\n",
    "- Numpy majorly works with numerical data whereas Pandas works with tabular data.\n",
    "- The data structure in Pandas are Series, Dataframes and Panel whose objects can go upto three. Whereas Numpy has Arrays whose objects can go upto n dimensions.\n",
    "- Numpy consumes less memory as compared to Pandas.\n",
    "- Pandas perform better with the data having 500K rows or more whereas Numpy performances better for 50K rows or less\n",
    "- Pandas is more widely used in industry than Numpy.\n",
    "- Good read : http://gouthamanbalaraman.com/blog/numpy-vs-pandas-comparison.html"
   ]
  },
  {
   "cell_type": "code",
   "execution_count": null,
   "id": "c721399f",
   "metadata": {},
   "outputs": [],
   "source": [
    "# 1st version\n",
    "\n",
    "df_filter = df.loc[df.NOC.isin(['AUT', 'FRA', 'CHN', 'USA', 'FIN']), :].reset_index(drop=True)\n",
    "df_pivot = df_filter.pivot_table(index='Year', columns='NOC', values='Medal', aggfunc='count')\n",
    "df_pivot = df_pivot.fillna(0)\n",
    "df_pivot.plot()"
   ]
  },
  {
   "cell_type": "markdown",
   "id": "3067ae7e",
   "metadata": {},
   "source": [
    "#### To improve code readability, we use Pandas Method Chaning.\n",
    "Method chaining is a programmatic style of invoking multiple method calls sequentially with each call performing an action on the same object and returning it\n",
    "- To deep dive : https://towardsdatascience.com/the-unreasonable-effectiveness-of-method-chaining-in-pandas-15c2109e3c69"
   ]
  },
  {
   "cell_type": "code",
   "execution_count": null,
   "id": "9134097f",
   "metadata": {},
   "outputs": [],
   "source": [
    "# 2nd version\n",
    "\n",
    "(\n",
    "    df\n",
    "    .loc[df.NOC.isin(['AUT', 'FRA', 'CHN', 'USA', 'FIN'])]\n",
    "    .pivot_table(index='Year', columns='NOC', values='Medal', aggfunc='count')\n",
    "    .fillna(0)\n",
    "    .plot()\n",
    ")"
   ]
  }
 ],
 "metadata": {
  "interpreter": {
   "hash": "3207b46d55f06357cbc786d58801af30adee4e85f2fbb9c5029957ffa03d32a9"
  },
  "kernelspec": {
   "display_name": "Python 3 (ipykernel)",
   "language": "python",
   "name": "python3"
  },
  "language_info": {
   "codemirror_mode": {
    "name": "ipython",
    "version": 3
   },
   "file_extension": ".py",
   "mimetype": "text/x-python",
   "name": "python",
   "nbconvert_exporter": "python",
   "pygments_lexer": "ipython3",
   "version": "3.8.11"
  }
 },
 "nbformat": 4,
 "nbformat_minor": 5
}
