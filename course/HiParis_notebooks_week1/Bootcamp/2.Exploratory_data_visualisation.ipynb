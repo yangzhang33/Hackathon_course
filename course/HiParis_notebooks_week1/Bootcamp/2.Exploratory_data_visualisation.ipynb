{
 "cells": [
  {
   "cell_type": "markdown",
   "metadata": {},
   "source": [
    "## 2. Exploratory_data_visualisation\n",
    "\n",
    "Authors : Haddam Yacine, Ka Alioune, Renaud Adrien"
   ]
  },
  {
   "cell_type": "markdown",
   "metadata": {},
   "source": [
    "<p align=\"center\">\n",
    "  <a>\n",
    "    <img src=\"../src/figures/logo-hi-paris-retina.png\" alt=\"Logo\" width=\"280\" height=\"180\">\n",
    "  </a>\n",
    "\n",
    "  <h3 align=\"center\">Data Science Bootcamp</h3>\n",
    "</p>"
   ]
  },
  {
   "cell_type": "markdown",
   "metadata": {},
   "source": [
    "### What is data exploration:\n",
    "- Discovering early patterns in the data.\n",
    "- Understand the first relationships of the variables.\n",
    "- Initial analysis to discover where to go from here. \n",
    "\n",
    "### Why is it important? \n",
    "- Simplifies future analysis.\n",
    "- Guides data analysis.\n",
    "- Clean up data by removing unnecessary data. "
   ]
  },
  {
   "cell_type": "markdown",
   "metadata": {},
   "source": [
    "### Data Path\n",
    "\n",
    "`data_dir` is the path to data folder."
   ]
  },
  {
   "cell_type": "code",
   "execution_count": null,
   "metadata": {},
   "outputs": [],
   "source": [
    "data_dir = \"/home/jovyan/personal_workspace/bootcamp/data\""
   ]
  },
  {
   "cell_type": "markdown",
   "metadata": {},
   "source": [
    "### Libraries"
   ]
  },
  {
   "cell_type": "code",
   "execution_count": null,
   "metadata": {},
   "outputs": [],
   "source": [
    "import sys\n",
    "import os\n",
    "import warnings\n",
    "\n",
    "import numpy as np\n",
    "import pandas as pd\n",
    "\n",
    "import matplotlib.pyplot as plt\n",
    "import seaborn as sns\n",
    "import plotly.express as px\n",
    "\n",
    "sys.path.append('../src/notebooks')\n",
    "from utils.get_data import load_data\n",
    "\n",
    "\n",
    "fiuvb dvusdvv\n",
    "pd.set_option('display.max_columns', 500)"
   ]
  },
  {
   "cell_type": "code",
   "execution_count": null,
   "metadata": {},
   "outputs": [],
   "source": [
    "# Load cleaned data from previous notebook\n",
    "\n",
    "building_meta, meters, weather = load_data('clean', data_dir=data_dir)"
   ]
  },
  {
   "cell_type": "markdown",
   "metadata": {},
   "source": [
    "### How caracterises the primary use in each site id ?"
   ]
  },
  {
   "cell_type": "code",
   "execution_count": null,
   "metadata": {},
   "outputs": [],
   "source": [
    "nbr_primary_use_by_site = (\n",
    "    building_meta\n",
    "    .pivot_table(index='site_id', columns='primary_use', values='building_id', aggfunc='count')\n",
    "    .fillna(0)\n",
    ")\n",
    "nbr_primary_use_by_site"
   ]
  },
  {
   "cell_type": "markdown",
   "metadata": {},
   "source": [
    "#### Tabular data are time consuming to analyze, heatmaps can simplify the insights reading"
   ]
  },
  {
   "cell_type": "code",
   "execution_count": null,
   "metadata": {},
   "outputs": [],
   "source": [
    "fig, ax = plt.subplots(1, 2, figsize=(13, 6))\n",
    "sns.heatmap(nbr_primary_use_by_site, annot=True, fmt='.0f', cbar=False, cmap=\"YlGnBu\", linewidths=.5, ax=ax[0])\n",
    "ax[0].set_title('Number of buildings per primary use for each site_id')\n",
    "\n",
    "\n",
    "perc_primary_use_by_site = nbr_primary_use_by_site.div(nbr_primary_use_by_site.sum(axis=1), axis=0) * 100\n",
    "sns.heatmap(perc_primary_use_by_site, annot=True, fmt='.0f', cbar=False, cmap=\"YlGnBu\", linewidths=.5,  ax=ax[1])\n",
    "ax[1].set_title('Percentage of buildings per primary use for each site_id')\n",
    "\n",
    "_ = fig.suptitle('Statics of buildings per primary use for each site_id', fontsize=16)"
   ]
  },
  {
   "cell_type": "markdown",
   "metadata": {},
   "source": [
    "## 2. Meters\n",
    "\n",
    "\n",
    "#### Meter readings\n",
    "\n",
    "- `timestamp`: date and time in the format YYYY-MM-DD hh:mm:ss. 2016 and 2017 data.\n",
    "- `building_id`: unique identifier for the buildings.\n",
    "- `meter_reading`: meter reading in kilowatt hour (kWh) .\n",
    "- `meter`: meter type, `chilledwater`, `electricity`, `hotwater`, `steam`\n",
    "\n",
    "\n",
    "The `meter` variable is encoded as an integer as follow:\n",
    "```json\n",
    "{0: 'electricity', 1: 'chilledwater', 2: 'steam', 3: 'hotwater'}\n",
    "```"
   ]
  },
  {
   "cell_type": "code",
   "execution_count": null,
   "metadata": {},
   "outputs": [],
   "source": [
    "dict_meter_name = {0: 'electricity', 1: 'chilledwater', 2: 'steam', 3: 'hotwater'}"
   ]
  },
  {
   "cell_type": "code",
   "execution_count": null,
   "metadata": {},
   "outputs": [],
   "source": [
    "meters.head()"
   ]
  },
  {
   "cell_type": "code",
   "execution_count": null,
   "metadata": {},
   "outputs": [],
   "source": [
    "meters.info()"
   ]
  },
  {
   "cell_type": "markdown",
   "metadata": {},
   "source": [
    "### Study the distribution of the variable 'meter_reading'\n",
    "\n",
    "We plot the distribution of `meter_reading` in linear and log scale."
   ]
  },
  {
   "cell_type": "code",
   "execution_count": null,
   "metadata": {},
   "outputs": [],
   "source": [
    "meters['log_meter_reading'] = np.log(meters.meter_reading + 1)"
   ]
  },
  {
   "cell_type": "code",
   "execution_count": null,
   "metadata": {},
   "outputs": [],
   "source": [
    "fig, ax = plt.subplots(1, 2, figsize=(13, 7))\n",
    "for meter, color in zip([0, 1, 2, 3], ['green', 'black', 'red', 'blue']):\n",
    "    sns.distplot(\n",
    "        meters.loc[meters.meter == meter, 'meter_reading'],\n",
    "        ax=ax[0],\n",
    "        hist=False,\n",
    "        color=color\n",
    "    )\n",
    "    sns.distplot(\n",
    "        meters.loc[meters.meter == meter, 'log_meter_reading'],\n",
    "        ax=ax[1],\n",
    "        hist=False,\n",
    "        color=color\n",
    "    )\n",
    "\n",
    "ax[0].title.set_text('Distribution of meter reading')\n",
    "ax[1].title.set_text('Distribution of log meter reading')\n",
    "\n",
    "_ = fig.legend(labels=list(dict_meter_name.values()))"
   ]
  },
  {
   "cell_type": "markdown",
   "metadata": {},
   "source": [
    "To reduce outliers effect, change the scale of the variable can be a solution!  \n",
    "Another solution is to work with robust statistics (median)."
   ]
  },
  {
   "cell_type": "markdown",
   "metadata": {},
   "source": [
    "We now visualize the evolution of `meter_reading`."
   ]
  },
  {
   "cell_type": "code",
   "execution_count": null,
   "metadata": {},
   "outputs": [],
   "source": [
    "plt.figure(figsize=(12, 6))\n",
    "_ = (\n",
    "    meters\n",
    "    .set_index('timestamp')\n",
    "    .resample(\"D\")\n",
    "    .meter_reading\n",
    "    .mean()\n",
    "    .plot()\n",
    "    .set_ylabel('Mean meter reading', fontsize=13)\n",
    ")\n",
    "plt.grid()\n",
    "plt.show()"
   ]
  },
  {
   "cell_type": "markdown",
   "metadata": {},
   "source": [
    "The evolution looks strange, with huge consumption up to July 2016 and a spike in November.  \n",
    "We need to investigate this behavior. "
   ]
  },
  {
   "cell_type": "markdown",
   "metadata": {},
   "source": [
    "We wants to plot the evolution of `meter_reading` by `site_id`.    \n",
    "For this we need to enrich the meters DataFrame with the building metadata.\n",
    "\n",
    "We create a new `pandas.DataFrame` named `dataset` by joining the `building_meta` and `meters` tables using the `building_id` key."
   ]
  },
  {
   "cell_type": "code",
   "execution_count": null,
   "metadata": {},
   "outputs": [],
   "source": [
    "dataset = building_meta.merge(meters, how='inner', on='building_id')"
   ]
  },
  {
   "cell_type": "code",
   "execution_count": null,
   "metadata": {},
   "outputs": [],
   "source": [
    "def daily_plot_of_meter_reading(data, by, r=8, col=True):\n",
    "    '''Plot daily consumption (`meter_reading` variable).\n",
    "\n",
    "    Args:\n",
    "        data (pd.DataFrame): datframe containg `meter_reading`.\n",
    "        by (str): The name of the column to group by.\n",
    "        r (int): the number of rows to plot\n",
    "        col (bool): to draw in two columns\n",
    "    '''\n",
    "    if col:\n",
    "        fig, axes = plt.subplots(r, 2, figsize=(14, 30), dpi=100)\n",
    "        for i, val in enumerate(data['{}'.format(by)].unique()):\n",
    "            try:\n",
    "                i = int(val)\n",
    "            except:\n",
    "                pass\n",
    "            (\n",
    "                data[data['{}'.format(by)] == val]\n",
    "                [['timestamp', 'meter_reading']]\n",
    "                .set_index('timestamp')\n",
    "                .resample('D')\n",
    "                .mean()['meter_reading']\n",
    "                .plot(ax=axes[i % r][i//r], alpha=0.8, label='By day', color='tab:blue')\n",
    "                .set_ylabel('Mean meter reading', fontsize=13)\n",
    "            )\n",
    "            axes[i % r][i//r].legend()\n",
    "            axes[i % r][i//r].set_title('{} {}'.format(by, val), fontsize=13)\n",
    "            plt.subplots_adjust(hspace=0.45)\n",
    "    else:\n",
    "        fig, axes = plt.subplots(r, 1, figsize=(14, 30), dpi=100)\n",
    "        for i, val in enumerate(data['{}'.format(by)].unique()):\n",
    "            try:\n",
    "                i = int(val)\n",
    "            except:\n",
    "                pass\n",
    "            (\n",
    "                data[data['{}'.format(by)] == val]\n",
    "                [['timestamp', 'meter_reading']]\n",
    "                .set_index('timestamp')\n",
    "                .resample('D')\n",
    "                .mean()['meter_reading']\n",
    "                .plot(ax=axes[i], alpha=0.8, label='By day', color='tab:blue')\n",
    "                .set_ylabel('Mean meter reading', fontsize=13)\n",
    "            )\n",
    "            axes[i].set_title('{} {}'.format(by, val), fontsize=13)"
   ]
  },
  {
   "cell_type": "code",
   "execution_count": null,
   "metadata": {},
   "outputs": [],
   "source": [
    "daily_plot_of_meter_reading(dataset, \"site_id\")"
   ]
  },
  {
   "cell_type": "markdown",
   "metadata": {},
   "source": [
    "According to these plot, what can you say about the site number 13?\n",
    "take a closer look and plot the energy consumption on site number 13 by primary use.\n",
    "\n",
    "**hint** : use hourly_plot_of_meter_reading() with the right filtered data and r = 5\n",
    "\n",
    "what do you remark?"
   ]
  },
  {
   "cell_type": "code",
   "execution_count": null,
   "metadata": {},
   "outputs": [],
   "source": [
    "daily_plot_of_meter_reading(dataset[dataset.site_id == 13], \"primary_use\", r=5)"
   ]
  },
  {
   "cell_type": "markdown",
   "metadata": {},
   "source": [
    "We can see that the behavior is coming from building having `primary_use` equal to Education.\n",
    "\n",
    "Lets see the mean `meter_reading` for those buildings."
   ]
  },
  {
   "cell_type": "code",
   "execution_count": null,
   "metadata": {},
   "outputs": [],
   "source": [
    "_ = (\n",
    "    dataset\n",
    "    [(dataset.site_id == 13) & (dataset.primary_use == \"Education\")]\n",
    "    .groupby('building_id')\n",
    "    .meter_reading\n",
    "    .mean()\n",
    "    .plot.bar()\n",
    ")"
   ]
  },
  {
   "cell_type": "markdown",
   "metadata": {},
   "source": [
    "By comparing the distribution of the energy consumption of building *1099* with others, we observe an abnormal behavior. Let's see the effect of that on our first plot of the evolution of `meter_reading`. "
   ]
  },
  {
   "cell_type": "code",
   "execution_count": null,
   "metadata": {},
   "outputs": [],
   "source": [
    "# create the figure\n",
    "fig, axes = plt.subplots(3, 1, figsize=(14, 20), dpi=100)\n",
    "\n",
    "# plot only building 1099\n",
    "(\n",
    "    dataset\n",
    "    [dataset['building_id'] == 1099]\n",
    "    .set_index('timestamp')\n",
    "    .resample('D')\n",
    "    .meter_reading\n",
    "    .mean()\n",
    "    .plot(ax=axes[0])\n",
    ")\n",
    "\n",
    "# plot the all dataset\n",
    "(\n",
    "    dataset\n",
    "    .set_index('timestamp')\n",
    "    .resample('D')\n",
    "    .meter_reading\n",
    "    .mean()\n",
    "    .plot(ax=axes[1])\n",
    ")\n",
    "\n",
    "# plot the all dataset excepted building 1099\n",
    "(\n",
    "    dataset\n",
    "    [dataset['building_id'] != 1099]\n",
    "    .set_index('timestamp')\n",
    "    .resample('D')\n",
    "    .meter_reading\n",
    "    .mean()\n",
    "    .plot(ax=axes[2])\n",
    ")\n",
    "\n",
    "# add some style\n",
    "axes[0].set_title('building_id 1099', fontsize=13)\n",
    "axes[1].set_title('Full dataset', fontsize=13)\n",
    "axes[2].set_title('Full dataset with building_id 1099 excluded', fontsize=13)\n",
    "plt.subplots_adjust(hspace=0.3)"
   ]
  },
  {
   "cell_type": "markdown",
   "metadata": {},
   "source": [
    "In the following, it may be wise to remove this building so as not to bias the analyzes that will follow ( models or insights)."
   ]
  },
  {
   "cell_type": "markdown",
   "metadata": {},
   "source": [
    "### There is a difference of energy consumption between type of buildings"
   ]
  },
  {
   "cell_type": "code",
   "execution_count": null,
   "metadata": {},
   "outputs": [],
   "source": [
    "# create the figure\n",
    "fig, ax = plt.subplots(figsize=(13, 7))\n",
    "\n",
    "# loop over `primary_use` values and plot\n",
    "for primary_use in dataset.primary_use.unique():\n",
    "    sns.distplot(\n",
    "        dataset.loc[dataset.primary_use == primary_use, 'log_meter_reading'],\n",
    "        ax=ax,\n",
    "        hist=False\n",
    "    )\n",
    "\n",
    "# add style\n",
    "ax.title.set_text('Distribution of meter reading')\n",
    "_ = fig.legend(labels=dataset.primary_use.unique())"
   ]
  },
  {
   "cell_type": "markdown",
   "metadata": {},
   "source": [
    "The last visualisation is a little bit difficult to understand, we propose an other type of visualisation 'box plot'."
   ]
  },
  {
   "cell_type": "markdown",
   "metadata": {},
   "source": [
    "Box plot are perfect to detect outliers and comapre differents categories"
   ]
  },
  {
   "cell_type": "markdown",
   "metadata": {},
   "source": [
    "<img src=\"../src/figures/Capture.png\" width=700 height=300 />"
   ]
  },
  {
   "cell_type": "code",
   "execution_count": null,
   "metadata": {},
   "outputs": [],
   "source": [
    "f, ax = plt.subplots(figsize=(13, 7))\n",
    "\n",
    "sns.boxplot(data=dataset, x='primary_use', y='log_meter_reading', ax=ax)\n",
    "ax.set_ylabel('log meter reading (kWh)')\n",
    "ax.set_xlabel('Primary usage')\n",
    "ax.set_xticklabels(ax.get_xticklabels(), rotation=90)\n",
    "\n",
    "_ = f.suptitle('Meter reading by primary_use', fontsize=20)"
   ]
  },
  {
   "cell_type": "markdown",
   "metadata": {},
   "source": [
    "### How about site_id ?"
   ]
  },
  {
   "cell_type": "markdown",
   "metadata": {},
   "source": [
    "Get the median consumption for each site (while keeping geo position): "
   ]
  },
  {
   "cell_type": "code",
   "execution_count": null,
   "metadata": {},
   "outputs": [],
   "source": [
    "site_median_consumption = (\n",
    "    dataset\n",
    "    .groupby(['site_id', 'lat', 'lng'])\n",
    "    ['log_meter_reading']\n",
    "    .median()\n",
    "    .reset_index()\n",
    ")"
   ]
  },
  {
   "cell_type": "markdown",
   "metadata": {},
   "source": [
    "Plot site median consumption on a map:"
   ]
  },
  {
   "cell_type": "code",
   "execution_count": null,
   "metadata": {},
   "outputs": [],
   "source": [
    "fig = px.scatter_mapbox(\n",
    "    site_median_consumption,\n",
    "    lat=\"lat\", lon=\"lng\",\n",
    "    hover_name=\"site_id\",\n",
    "    color='log_meter_reading', size='log_meter_reading',\n",
    "    color_discrete_sequence=[\"fuchsia\"], zoom=2, height=300\n",
    ")\n",
    "fig.update_layout(mapbox_style=\"open-street-map\")\n",
    "fig.update_layout(margin={\"r\": 0, \"t\": 0, \"l\": 0, \"b\": 0})\n",
    "fig.show()"
   ]
  },
  {
   "cell_type": "markdown",
   "metadata": {},
   "source": [
    "## Time of Day and Meter Reading\n",
    "Reading are significantly higher during  work hours and this is to be expected. Time of day appears like it will be a significant predictor in any subsequent model for this competition."
   ]
  },
  {
   "cell_type": "markdown",
   "metadata": {},
   "source": [
    "Create a numerical variable from date format data"
   ]
  },
  {
   "cell_type": "code",
   "execution_count": null,
   "metadata": {},
   "outputs": [],
   "source": [
    "# create datetime related features to simplify the analysis\n",
    "\n",
    "dataset['meter_name'] = dataset.meter.map(dict_meter_name)\n",
    "dataset['day'] = dataset.timestamp.dt.day.astype(np.int8)\n",
    "dataset['month'] = dataset.timestamp.dt.month.astype(np.int8)\n",
    "dataset['hour'] = dataset.timestamp.dt.hour.astype(np.int8)\n",
    "dataset['day_of_week'] = dataset.timestamp.dt.dayofweek.astype(\"int8\")"
   ]
  },
  {
   "cell_type": "code",
   "execution_count": null,
   "metadata": {},
   "outputs": [],
   "source": [
    "meters_by_hour = (\n",
    "    dataset\n",
    "    .groupby('hour')\n",
    "    .agg({'log_meter_reading': 'median'})\n",
    ")\n",
    "\n",
    "fig, ax = plt.subplots(figsize=(11, 5))\n",
    "sns.lineplot(data=meters_by_hour, x=\"hour\", y=\"log_meter_reading\", ax=ax)\n",
    "_ = ax.set(title=\"Time of Day's Meter Reading Distribution\")"
   ]
  },
  {
   "cell_type": "markdown",
   "metadata": {},
   "source": [
    "### There is a relation between the weather and meter_reading ?\n",
    "\n",
    "To answer this question, we need to enrich our dataset with the `weather` table.  \n",
    "To do this, we join the two tables using as key the two following variables: `site_id` and `timestamp`. "
   ]
  },
  {
   "cell_type": "code",
   "execution_count": null,
   "metadata": {},
   "outputs": [],
   "source": [
    "dataset = dataset.merge(\n",
    "    weather,\n",
    "    how='inner',\n",
    "    on=['site_id', 'timestamp']\n",
    ")"
   ]
  },
  {
   "cell_type": "markdown",
   "metadata": {},
   "source": [
    "Get some info on the newly created table:"
   ]
  },
  {
   "cell_type": "code",
   "execution_count": null,
   "metadata": {},
   "outputs": [],
   "source": [
    "dataset.info()"
   ]
  },
  {
   "cell_type": "markdown",
   "metadata": {},
   "source": [
    "Measure the **correlations** between the **weather** variables and the **energy consumption**."
   ]
  },
  {
   "cell_type": "code",
   "execution_count": null,
   "metadata": {},
   "outputs": [],
   "source": [
    "def plot_weather_correlations(data):\n",
    "    \"\"\"Plot the correlations between weather data\n",
    "    and the energy consumption.\n",
    "    \"\"\"\n",
    "\n",
    "    columns_to_show = [\n",
    "        \"log_meter_reading\",\n",
    "        \"air_temperature\",\n",
    "        \"cloud_coverage\",\n",
    "        \"dew_temperature\",\n",
    "        \"precip_depth_1_hr\",\n",
    "        \"sea_level_pressure\",\n",
    "        \"wind_direction\",\n",
    "        \"wind_speed\"\n",
    "    ]\n",
    "\n",
    "    correlations = (\n",
    "        data\n",
    "        [columns_to_show]\n",
    "        .corr(method=\"spearman\")\n",
    "    )\n",
    "\n",
    "    fig, ax = plt.subplots(1, 1, figsize=(10, 9))\n",
    "    _ = sns.heatmap(\n",
    "        correlations,\n",
    "        cmap=\"coolwarm\",\n",
    "        vmin=-1,\n",
    "        vmax=1,\n",
    "        annot=True,\n",
    "        ax=ax,\n",
    "    )\n",
    "    plt.xticks(rotation=45)\n",
    "    _ = plt.show()"
   ]
  },
  {
   "cell_type": "code",
   "execution_count": null,
   "metadata": {},
   "outputs": [],
   "source": [
    "plot_weather_correlations(dataset)"
   ]
  },
  {
   "cell_type": "markdown",
   "metadata": {},
   "source": [
    "No correlation between the weather and the energy consumption? Really?"
   ]
  },
  {
   "cell_type": "markdown",
   "metadata": {},
   "source": [
    "## Save dataset for the next notebook"
   ]
  },
  {
   "cell_type": "code",
   "execution_count": null,
   "metadata": {},
   "outputs": [],
   "source": [
    "dataset.to_feather(\n",
    "    os.path.join(data_dir, \"merged/data.feather\")\n",
    ")"
   ]
  },
  {
   "cell_type": "markdown",
   "metadata": {},
   "source": [
    "# It's your turn ! \n",
    "\n",
    "It's your turn to produce some meaningful visualization or insights from the final dataset.\n",
    "\n",
    "Some possible visualizations: \n",
    "1. The impact of weather for the different energy sources.\n",
    "2. Compare the energy consumption between two primary usage ( Education / Parking) during week days / weekend / holidays / season\n",
    "3. Study the difference of energy consumption between geographical region\n",
    "\n",
    "### Hints\n",
    "\n",
    "- **Hint 1**:\n",
    "\n",
    "```python\n",
    "plot_weather_correlations(dataset[dataset.meter_name == \"steam\"])\n",
    "```\n",
    "\n",
    "- **Hint 2**:\n",
    "\n",
    "```python\n",
    "def plot_meter_by(data, primary_use_1, primary_use_2, by):\n",
    "    \"\"\"Plot the energy consumption with respect to the variable `by`\n",
    "    for two `primary_use` side by side.\n",
    "    \"\"\"\n",
    "    fig, ax = plt.subplots(1, 2, figsize=(13, 7))\n",
    "    educ_meters_by_hour = data[data.primary_use == primary_use_1].groupby(by).agg({'meter_reading': 'median'})\n",
    "    park_meters_by_hour = data[data.primary_use == primary_use_2].groupby(by).agg({'meter_reading': 'median'})\n",
    "\n",
    "    sns.lineplot(data=educ_meters_by_hour, x=by, y=\"meter_reading\", marker=\"o\", ax=ax[0])\n",
    "    sns.lineplot(data=park_meters_by_hour, x=by, y=\"meter_reading\", marker=\"o\", ax=ax[1])\n",
    "\n",
    "    ax[0].title.set_text('Distribution of log meter reading on Education buildings')\n",
    "    ax[1].title.set_text('Distribution of log meter reading on Parking area')\n",
    "    _ = plt.plot()\n",
    "\n",
    "\n",
    "plot_meter_by(dataset, \"Education\", \"Parking\", by=\"hour\")\n",
    "```\n",
    "\n",
    "- **Hint 3**:\n",
    "\n",
    "```python\n",
    "dataset[\"zone_geo\"] = \"US\"\n",
    "dataset.loc[dataset.lng > -4, 'zone_geo'] = \"EUROPE\"\n",
    "\n",
    "dataset[[\"zone_geo\", \"log_meter_reading\"]].groupby('zone_geo').describe().reset_index()\n",
    "```"
   ]
  },
  {
   "cell_type": "markdown",
   "metadata": {},
   "source": [
    "## Take away \n",
    "- The stronger the correlation coefficient between two variables, the more dependent they are\n",
    "- Two highly dependent variables provide the same information\n",
    "- Data exploration allows to estimate the relevance of some variables to answer the initial objective\n",
    "- It is important to try to interpret and translate the observations into business terms\n",
    "- Confusing correlation with causation\n",
    "- Not taking proportions into account\n"
   ]
  },
  {
   "cell_type": "markdown",
   "metadata": {},
   "source": [
    "### Go Further :\n",
    "[COMPREHENSIVE DATA EXPLORATION WITH PYTHON](https://www.kaggle.com/pmarcelino/comprehensive-data-exploration-with-python)\n",
    "\n"
   ]
  }
 ],
 "metadata": {
  "interpreter": {
   "hash": "3207b46d55f06357cbc786d58801af30adee4e85f2fbb9c5029957ffa03d32a9"
  },
  "kernelspec": {
   "display_name": "Python 3",
   "language": "python",
   "name": "python3"
  },
  "language_info": {
   "codemirror_mode": {
    "name": "ipython",
    "version": 3
   },
   "file_extension": ".py",
   "mimetype": "text/x-python",
   "name": "python",
   "nbconvert_exporter": "python",
   "pygments_lexer": "ipython3",
   "version": "3.8.8"
  },
  "toc": {
   "base_numbering": 1,
   "nav_menu": {},
   "number_sections": true,
   "sideBar": true,
   "skip_h1_title": false,
   "title_cell": "Table of Contents",
   "title_sidebar": "Contents",
   "toc_cell": false,
   "toc_position": {},
   "toc_section_display": true,
   "toc_window_display": false
  }
 },
 "nbformat": 4,
 "nbformat_minor": 4
}
